{
 "nbformat": 4,
 "nbformat_minor": 2,
 "metadata": {
  "language_info": {
   "name": "python",
   "codemirror_mode": {
    "name": "ipython",
    "version": 3
   },
   "version": "3.7.5-final"
  },
  "orig_nbformat": 2,
  "file_extension": ".py",
  "mimetype": "text/x-python",
  "name": "python",
  "npconvert_exporter": "python",
  "pygments_lexer": "ipython3",
  "version": 3,
  "kernelspec": {
   "name": "python37564bit353f2e0db6eb4a12aaff3c4bb3d04fe9",
   "display_name": "Python 3.7.5 64-bit"
  }
 },
 "cells": [
  {
   "cell_type": "code",
   "execution_count": 1,
   "metadata": {},
   "outputs": [],
   "source": [
    "import os, sys\n",
    "import numpy as np\n",
    "import pandas as pd\n",
    "from tqdm import tqdm\n",
    "import csv, re"
   ]
  },
  {
   "cell_type": "code",
   "execution_count": 2,
   "metadata": {},
   "outputs": [
    {
     "name": "stderr",
     "output_type": "stream",
     "text": "100%|██████████| 399/399 [00:00<00:00, 600.91it/s]\n"
    }
   ],
   "source": [
    "def read_txt_files(path=\"datasets/training\"):\n",
    "    datasets = []\n",
    "    flist = []\n",
    "    for root, dirs, files in os.walk(path):\n",
    "        for file in files:\n",
    "            if file.endswith(\".txt\"):\n",
    "                flist.append(os.path.join(root, file))\n",
    "    meta_file_path = os.path.join(path,'imfdb_meta.csv')\n",
    "    with open(meta_file_path, mode='w') as csv_file:\n",
    "        fieldnames = ['path','gender','emotion','obstruction','illumination','orientation']\n",
    "        writer = csv.DictWriter(csv_file, fieldnames=fieldnames)\n",
    "        writer.writeheader()\n",
    "        for f in tqdm(flist):\n",
    "            with open(f) as txt:\n",
    "                x = list(filter(None, txt.read().split('\\n')))\n",
    "                for xs in x:\n",
    "                    line = np.array(re.split(\"\\t|\\s\",xs))\n",
    "                    if len(line)>16 :\n",
    "                        file_path = \"/\".join(f.split('/')[:-1]) + \"/images/\" + line[2]\n",
    "                        row_dict = {fieldnames[0]:file_path,fieldnames[1]:line[10],fieldnames[2]:line[11],fieldnames[3]:line[12],fieldnames[4]:line[13],fieldnames[5]:line[15]}\n",
    "                        writer.writerow(row_dict)\n",
    "\n",
    "\n",
    "    return meta_file_path\n",
    "\n",
    "meta_data_path = read_txt_files(path = \"datasets/IMFDB_final\")"
   ]
  },
  {
   "cell_type": "code",
   "execution_count": 3,
   "metadata": {},
   "outputs": [],
   "source": [
    "df = pd.read_csv(meta_data_path)"
   ]
  },
  {
   "cell_type": "code",
   "execution_count": 4,
   "metadata": {},
   "outputs": [
    {
     "data": {
      "text/html": "<div>\n<style scoped>\n    .dataframe tbody tr th:only-of-type {\n        vertical-align: middle;\n    }\n\n    .dataframe tbody tr th {\n        vertical-align: top;\n    }\n\n    .dataframe thead th {\n        text-align: right;\n    }\n</style>\n<table border=\"1\" class=\"dataframe\">\n  <thead>\n    <tr style=\"text-align: right;\">\n      <th></th>\n      <th>path</th>\n      <th>gender</th>\n      <th>emotion</th>\n      <th>obstruction</th>\n      <th>illumination</th>\n      <th>orientation</th>\n    </tr>\n  </thead>\n  <tbody>\n    <tr>\n      <th>count</th>\n      <td>31292</td>\n      <td>30995</td>\n      <td>31268</td>\n      <td>31289</td>\n      <td>31290</td>\n      <td>31292</td>\n    </tr>\n    <tr>\n      <th>unique</th>\n      <td>30215</td>\n      <td>9</td>\n      <td>11</td>\n      <td>17</td>\n      <td>14</td>\n      <td>10</td>\n    </tr>\n    <tr>\n      <th>top</th>\n      <td>datasets/IMFDB_final/KatrinaKaif/ZindagiNaMile...</td>\n      <td>MALE</td>\n      <td>NEUTRAL</td>\n      <td>NONE</td>\n      <td>MEDIUM</td>\n      <td>FRONTAL</td>\n    </tr>\n    <tr>\n      <th>freq</th>\n      <td>235</td>\n      <td>20986</td>\n      <td>9588</td>\n      <td>21111</td>\n      <td>19836</td>\n      <td>11971</td>\n    </tr>\n  </tbody>\n</table>\n</div>",
      "text/plain": "                                                     path gender  emotion  \\\ncount                                               31292  30995    31268   \nunique                                              30215      9       11   \ntop     datasets/IMFDB_final/KatrinaKaif/ZindagiNaMile...   MALE  NEUTRAL   \nfreq                                                  235  20986     9588   \n\n       obstruction illumination orientation  \ncount        31289        31290       31292  \nunique          17           14          10  \ntop           NONE       MEDIUM     FRONTAL  \nfreq         21111        19836       11971  "
     },
     "execution_count": 4,
     "metadata": {},
     "output_type": "execute_result"
    }
   ],
   "source": [
    "df.describe()"
   ]
  },
  {
   "cell_type": "code",
   "execution_count": 5,
   "metadata": {},
   "outputs": [
    {
     "name": "stdout",
     "output_type": "stream",
     "text": "['FEMALE' 'MALE' 'SalmanKhan' nan 'Kavya_Madhavan' '174' 'Bharathi'\n 'Prakash' 'KareenaKapoor' '2001'] ['ANGER' 'NEUTRAL' 'SURPRISE' 'HAPPINESS' 'SADNESS' 'FEAR' 'DISGUST'\n 'MALE' nan 'FEMALE' 'Cheli' 'KareenaKapoor'] ['NONE' 'GLASSES' 'HAND' 'HAIR' 'OTHERS' 'DISGUST' 'MALE' 'HAPPINESS'\n 'NEUTRAL' 'ANGER' 'BEARD' 'ORNAMENTS' 'SADNESS' 'SURPRISE' nan '2001'\n 'FEAR' 'FEMALE'] ['MEDIUM' 'BAD' 'HIGH' 'NONE' 'NEUTRAL' 'HAND' 'OTHERS' 'GLASSES' 'ANGER'\n 'DISGUST' 'HAPPINESS' 'ORNAMENTS' nan 'Madhavan' 'HAIR'] ['FRONTAL' 'UP' 'RIGHT' 'LEFT' 'DOWN' 'YOUNG' 'MEDIUM' 'ANGER' 'OLD'\n 'MIDDLE']\n"
    }
   ],
   "source": [
    "print(df.gender.unique(),df.emotion.unique(),df.obstruction.unique(),df.illumination.unique(),df.orientation.unique())"
   ]
  },
  {
   "cell_type": "code",
   "execution_count": 6,
   "metadata": {},
   "outputs": [
    {
     "data": {
      "text/plain": "gender\n174                   1\n2001                  1\nBharathi            225\nFEMALE             9114\nKareenaKapoor       191\nKavya_Madhavan       63\nMALE              20383\nPrakash              17\nSalmanKhan           25\nName: path, dtype: int64"
     },
     "execution_count": 6,
     "metadata": {},
     "output_type": "execute_result"
    }
   ],
   "source": [
    "df.groupby('gender')['path'].nunique()"
   ]
  },
  {
   "cell_type": "code",
   "execution_count": 7,
   "metadata": {},
   "outputs": [
    {
     "data": {
      "text/plain": "emotion\nANGER            2697\nCheli               1\nDISGUST          3736\nFEAR              610\nFEMALE            480\nHAPPINESS        7846\nKareenaKapoor       1\nMALE              215\nNEUTRAL          9417\nSADNESS          3583\nSURPRISE         1690\nName: path, dtype: int64"
     },
     "execution_count": 7,
     "metadata": {},
     "output_type": "execute_result"
    }
   ],
   "source": [
    "df.groupby('emotion')['path'].nunique()"
   ]
  },
  {
   "cell_type": "code",
   "execution_count": 8,
   "metadata": {},
   "outputs": [],
   "source": [
    "for col in ['emotion','gender','obstruction']:\n",
    "    threshold = 500\n",
    "    value_counts = df[col].value_counts()\n",
    "    to_remove = value_counts[value_counts <= threshold].index\n",
    "    df[col].replace(to_remove, None, inplace=True)\n",
    "\n",
    "value_counts = df.path.value_counts()\n",
    "to_remove = value_counts[value_counts >10].index\n",
    "df.path.replace(to_remove, np.nan, inplace=True)"
   ]
  },
  {
   "cell_type": "code",
   "execution_count": 9,
   "metadata": {},
   "outputs": [
    {
     "name": "stdout",
     "output_type": "stream",
     "text": "['FEMALE' 'MALE' nan] ['ANGER' 'NEUTRAL' 'SURPRISE' 'HAPPINESS' 'SADNESS' 'FEAR' 'DISGUST' nan] ['NONE' 'GLASSES' 'HAND' 'HAIR' 'OTHERS' 'BEARD' nan] ['MEDIUM' 'BAD' 'HIGH' 'NONE' 'NEUTRAL' 'HAND' 'OTHERS' 'GLASSES' 'ANGER'\n 'DISGUST' 'HAPPINESS' 'ORNAMENTS' nan 'Madhavan' 'HAIR'] ['FRONTAL' 'UP' 'RIGHT' 'LEFT' 'DOWN' 'YOUNG' 'MEDIUM' 'ANGER' 'OLD'\n 'MIDDLE']\n"
    }
   ],
   "source": [
    "print(df.gender.unique(),df.emotion.unique(),df.obstruction.unique(),df.illumination.unique(),df.orientation.unique())"
   ]
  },
  {
   "cell_type": "code",
   "execution_count": 10,
   "metadata": {},
   "outputs": [],
   "source": [
    "clean_df = df.dropna()"
   ]
  },
  {
   "cell_type": "code",
   "execution_count": 11,
   "metadata": {},
   "outputs": [
    {
     "name": "stdout",
     "output_type": "stream",
     "text": "['FEMALE' 'MALE'] ['ANGER' 'NEUTRAL' 'SURPRISE' 'HAPPINESS' 'SADNESS' 'FEAR' 'DISGUST'] ['NONE' 'GLASSES' 'HAND' 'HAIR' 'OTHERS' 'BEARD'] ['MEDIUM' 'BAD' 'HIGH' 'NONE' 'ORNAMENTS' 'HAND' 'Madhavan' 'HAIR'\n 'GLASSES' 'OTHERS' 'DISGUST'] ['FRONTAL' 'UP' 'RIGHT' 'LEFT' 'DOWN' 'YOUNG' 'ANGER' 'OLD' 'MEDIUM']\n"
    }
   ],
   "source": [
    "print(clean_df.gender.unique(),clean_df.emotion.unique(),clean_df.obstruction.unique(),clean_df.illumination.unique(),clean_df.orientation.unique())"
   ]
  },
  {
   "cell_type": "code",
   "execution_count": 12,
   "metadata": {},
   "outputs": [
    {
     "data": {
      "text/html": "<div>\n<style scoped>\n    .dataframe tbody tr th:only-of-type {\n        vertical-align: middle;\n    }\n\n    .dataframe tbody tr th {\n        vertical-align: top;\n    }\n\n    .dataframe thead th {\n        text-align: right;\n    }\n</style>\n<table border=\"1\" class=\"dataframe\">\n  <thead>\n    <tr style=\"text-align: right;\">\n      <th></th>\n      <th>path</th>\n      <th>gender</th>\n      <th>emotion</th>\n      <th>obstruction</th>\n      <th>illumination</th>\n      <th>orientation</th>\n    </tr>\n  </thead>\n  <tbody>\n    <tr>\n      <th>count</th>\n      <td>30092</td>\n      <td>30092</td>\n      <td>30092</td>\n      <td>30092</td>\n      <td>30092</td>\n      <td>30092</td>\n    </tr>\n    <tr>\n      <th>unique</th>\n      <td>29980</td>\n      <td>2</td>\n      <td>7</td>\n      <td>6</td>\n      <td>11</td>\n      <td>9</td>\n    </tr>\n    <tr>\n      <th>top</th>\n      <td>datasets/IMFDB_final/RameshArvind/Apthamithra/...</td>\n      <td>MALE</td>\n      <td>NEUTRAL</td>\n      <td>NONE</td>\n      <td>MEDIUM</td>\n      <td>FRONTAL</td>\n    </tr>\n    <tr>\n      <th>freq</th>\n      <td>8</td>\n      <td>20535</td>\n      <td>9665</td>\n      <td>21314</td>\n      <td>19207</td>\n      <td>11555</td>\n    </tr>\n  </tbody>\n</table>\n</div>",
      "text/plain": "                                                     path gender  emotion  \\\ncount                                               30092  30092    30092   \nunique                                              29980      2        7   \ntop     datasets/IMFDB_final/RameshArvind/Apthamithra/...   MALE  NEUTRAL   \nfreq                                                    8  20535     9665   \n\n       obstruction illumination orientation  \ncount        30092        30092       30092  \nunique           6           11           9  \ntop           NONE       MEDIUM     FRONTAL  \nfreq         21314        19207       11555  "
     },
     "execution_count": 12,
     "metadata": {},
     "output_type": "execute_result"
    }
   ],
   "source": [
    "clean_df.describe()"
   ]
  },
  {
   "cell_type": "code",
   "execution_count": 13,
   "metadata": {},
   "outputs": [
    {
     "data": {
      "text/plain": "30092"
     },
     "execution_count": 13,
     "metadata": {},
     "output_type": "execute_result"
    }
   ],
   "source": [
    "len(clean_df.path.str.contains('.jpg'))"
   ]
  },
  {
   "cell_type": "code",
   "execution_count": 14,
   "metadata": {},
   "outputs": [
    {
     "name": "stdout",
     "output_type": "stream",
     "text": "gender\nemotion\nobstruction\nillumination\norientation\n{'gender': [(0, 'FEMALE'), (1, 'MALE')], 'emotion': [(0, 'ANGER'), (1, 'NEUTRAL'), (2, 'SURPRISE'), (3, 'HAPPINESS'), (4, 'SADNESS'), (5, 'FEAR'), (6, 'DISGUST')], 'obstruction': [(0, 'NONE'), (1, 'GLASSES'), (2, 'HAND'), (3, 'HAIR'), (4, 'OTHERS'), (5, 'BEARD')], 'illumination': [(0, 'MEDIUM'), (1, 'BAD'), (2, 'HIGH'), (3, 'NONE'), (4, 'ORNAMENTS'), (5, 'HAND'), (6, 'Madhavan'), (7, 'HAIR'), (8, 'GLASSES'), (9, 'OTHERS'), (10, 'DISGUST')], 'orientation': [(0, 'FRONTAL'), (1, 'UP'), (2, 'RIGHT'), (3, 'LEFT'), (4, 'DOWN'), (5, 'YOUNG'), (6, 'ANGER'), (7, 'OLD'), (8, 'MEDIUM')]}\n"
    }
   ],
   "source": [
    "convert_dict = {}\n",
    "for col in clean_df.columns[1:]:\n",
    "    print(col)\n",
    "    convert_dict[col] = []\n",
    "    for i,v in enumerate(clean_df[col].unique()):\n",
    "        convert_dict[col].append((i,v))\n",
    "        clean_df[col].replace(v, i, inplace=True)\n",
    "print(convert_dict)"
   ]
  },
  {
   "cell_type": "code",
   "execution_count": 15,
   "metadata": {},
   "outputs": [
    {
     "data": {
      "text/html": "<div>\n<style scoped>\n    .dataframe tbody tr th:only-of-type {\n        vertical-align: middle;\n    }\n\n    .dataframe tbody tr th {\n        vertical-align: top;\n    }\n\n    .dataframe thead th {\n        text-align: right;\n    }\n</style>\n<table border=\"1\" class=\"dataframe\">\n  <thead>\n    <tr style=\"text-align: right;\">\n      <th></th>\n      <th>gender</th>\n      <th>emotion</th>\n      <th>obstruction</th>\n      <th>illumination</th>\n      <th>orientation</th>\n    </tr>\n  </thead>\n  <tbody>\n    <tr>\n      <th>count</th>\n      <td>30092.000000</td>\n      <td>30092.000000</td>\n      <td>30092.000000</td>\n      <td>30092.000000</td>\n      <td>30092.000000</td>\n    </tr>\n    <tr>\n      <th>mean</th>\n      <td>0.682407</td>\n      <td>2.566928</td>\n      <td>0.645188</td>\n      <td>0.459159</td>\n      <td>1.639273</td>\n    </tr>\n    <tr>\n      <th>std</th>\n      <td>0.465548</td>\n      <td>1.811111</td>\n      <td>1.247198</td>\n      <td>0.751696</td>\n      <td>1.457920</td>\n    </tr>\n    <tr>\n      <th>min</th>\n      <td>0.000000</td>\n      <td>0.000000</td>\n      <td>0.000000</td>\n      <td>0.000000</td>\n      <td>0.000000</td>\n    </tr>\n    <tr>\n      <th>25%</th>\n      <td>0.000000</td>\n      <td>1.000000</td>\n      <td>0.000000</td>\n      <td>0.000000</td>\n      <td>0.000000</td>\n    </tr>\n    <tr>\n      <th>50%</th>\n      <td>1.000000</td>\n      <td>3.000000</td>\n      <td>0.000000</td>\n      <td>0.000000</td>\n      <td>2.000000</td>\n    </tr>\n    <tr>\n      <th>75%</th>\n      <td>1.000000</td>\n      <td>4.000000</td>\n      <td>1.000000</td>\n      <td>1.000000</td>\n      <td>3.000000</td>\n    </tr>\n    <tr>\n      <th>max</th>\n      <td>1.000000</td>\n      <td>6.000000</td>\n      <td>5.000000</td>\n      <td>10.000000</td>\n      <td>8.000000</td>\n    </tr>\n  </tbody>\n</table>\n</div>",
      "text/plain": "             gender       emotion   obstruction  illumination   orientation\ncount  30092.000000  30092.000000  30092.000000  30092.000000  30092.000000\nmean       0.682407      2.566928      0.645188      0.459159      1.639273\nstd        0.465548      1.811111      1.247198      0.751696      1.457920\nmin        0.000000      0.000000      0.000000      0.000000      0.000000\n25%        0.000000      1.000000      0.000000      0.000000      0.000000\n50%        1.000000      3.000000      0.000000      0.000000      2.000000\n75%        1.000000      4.000000      1.000000      1.000000      3.000000\nmax        1.000000      6.000000      5.000000     10.000000      8.000000"
     },
     "execution_count": 15,
     "metadata": {},
     "output_type": "execute_result"
    }
   ],
   "source": [
    "clean_df.describe()"
   ]
  },
  {
   "cell_type": "code",
   "execution_count": 23,
   "metadata": {},
   "outputs": [
    {
     "data": {
      "text/plain": "str"
     },
     "execution_count": 23,
     "metadata": {},
     "output_type": "execute_result"
    }
   ],
   "source": [
    "type(clean_df.loc[1,:].path)"
   ]
  },
  {
   "cell_type": "markdown",
   "metadata": {},
   "source": [
    "### Extract meta_data.mat file IMDB-WIKI face age-gender dataset"
   ]
  },
  {
   "cell_type": "code",
   "execution_count": null,
   "metadata": {},
   "outputs": [],
   "source": [
    "from scipy.io import loadmat\n",
    "from datetime import datetime\n",
    "import os\n",
    "\n",
    "\n",
    "def calc_age(taken, dob):\n",
    "    birth = datetime.fromordinal(max(int(dob) - 366, 1))\n",
    "\n",
    "    # assume the photo was taken in the middle of the year\n",
    "    if birth.month < 7:\n",
    "        return taken - birth.year\n",
    "    else:\n",
    "        return taken - birth.year - 1\n",
    "\n",
    "\n",
    "def get_meta(mat_path, db):\n",
    "    meta = loadmat(mat_path)\n",
    "    full_path = meta[db][0, 0][\"full_path\"][0]\n",
    "    dob = meta[db][0, 0][\"dob\"][0]  # Matlab serial date number\n",
    "    gender = meta[db][0, 0][\"gender\"][0]\n",
    "    photo_taken = meta[db][0, 0][\"photo_taken\"][0]  # year\n",
    "    face_score = meta[db][0, 0][\"face_score\"][0]\n",
    "    second_face_score = meta[db][0, 0][\"second_face_score\"][0]\n",
    "    age = [calc_age(photo_taken[i], dob[i]) for i in range(len(dob))]\n",
    "\n",
    "    return full_path, dob, gender, photo_taken, face_score, second_face_score, age\n",
    "\n",
    "db = \"wiki\"\n",
    "# db = \"imdb\"\n",
    "mat_path = \"datasets/wiki\"\n",
    "full_path, dob, gender, photo_taken, face_score, second_face_score, age\\\n",
    "    = get_meta(mat_path, db)"
   ]
  }
 ]
}