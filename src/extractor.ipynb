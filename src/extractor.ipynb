{
 "nbformat": 4,
 "nbformat_minor": 2,
 "metadata": {
  "language_info": {
   "name": "python",
   "codemirror_mode": {
    "name": "ipython",
    "version": 3
   },
   "version": "3.7.5-final"
  },
  "orig_nbformat": 2,
  "file_extension": ".py",
  "mimetype": "text/x-python",
  "name": "python",
  "npconvert_exporter": "python",
  "pygments_lexer": "ipython3",
  "version": 3,
  "kernelspec": {
   "name": "python37564bit353f2e0db6eb4a12aaff3c4bb3d04fe9",
   "display_name": "Python 3.7.5 64-bit"
  }
 },
 "cells": [
  {
   "cell_type": "code",
   "execution_count": 1,
   "metadata": {},
   "outputs": [],
   "source": [
    "import os, sys\n",
    "import numpy as np\n",
    "import pandas as pd\n",
    "from tqdm import tqdm\n",
    "import csv, re"
   ]
  },
  {
   "cell_type": "code",
   "execution_count": 2,
   "metadata": {},
   "outputs": [
    {
     "name": "stderr",
     "output_type": "stream",
     "text": "100%|██████████| 399/399 [00:00<00:00, 605.92it/s]\n"
    }
   ],
   "source": [
    "def read_txt_files(path=\"datasets/training\"):\n",
    "    datasets = []\n",
    "    flist = []\n",
    "    for root, dirs, files in os.walk(path):\n",
    "        for file in files:\n",
    "            if file.endswith(\".txt\"):\n",
    "                flist.append(os.path.join(root, file))\n",
    "    meta_file_path = os.path.join(path,'imfdb_meta.csv')\n",
    "    with open(meta_file_path, mode='w') as csv_file:\n",
    "        fieldnames = ['path','gender','emotion','obstruction','illumination','orientation']\n",
    "        writer = csv.DictWriter(csv_file, fieldnames=fieldnames)\n",
    "        writer.writeheader()\n",
    "        for f in tqdm(flist):\n",
    "            with open(f) as txt:\n",
    "                x = list(filter(None, txt.read().split('\\n')))\n",
    "                for xs in x:\n",
    "                    line = np.array(re.split(\"\\t|\\s\",xs))\n",
    "                    if len(line)>16 :\n",
    "                        file_path = \"/\".join(f.split('/')[:-1]) + \"/images/\" + line[2]\n",
    "                        row_dict = {fieldnames[0]:file_path,fieldnames[1]:line[10],fieldnames[2]:line[11],fieldnames[3]:line[12],fieldnames[4]:line[13],fieldnames[5]:line[15]}\n",
    "                        writer.writerow(row_dict)\n",
    "\n",
    "\n",
    "    return meta_file_path\n",
    "\n",
    "meta_data_path = read_txt_files(path = \"datasets/IMFDB_final\")"
   ]
  },
  {
   "cell_type": "code",
   "execution_count": 31,
   "metadata": {},
   "outputs": [],
   "source": [
    "df = pd.read_csv(meta_data_path)"
   ]
  },
  {
   "cell_type": "code",
   "execution_count": 32,
   "metadata": {},
   "outputs": [
    {
     "data": {
      "text/html": "<div>\n<style scoped>\n    .dataframe tbody tr th:only-of-type {\n        vertical-align: middle;\n    }\n\n    .dataframe tbody tr th {\n        vertical-align: top;\n    }\n\n    .dataframe thead th {\n        text-align: right;\n    }\n</style>\n<table border=\"1\" class=\"dataframe\">\n  <thead>\n    <tr style=\"text-align: right;\">\n      <th></th>\n      <th>path</th>\n      <th>gender</th>\n      <th>emotion</th>\n      <th>obstruction</th>\n      <th>illumination</th>\n      <th>orientation</th>\n    </tr>\n  </thead>\n  <tbody>\n    <tr>\n      <th>count</th>\n      <td>31292</td>\n      <td>30995</td>\n      <td>31268</td>\n      <td>31289</td>\n      <td>31290</td>\n      <td>31292</td>\n    </tr>\n    <tr>\n      <th>unique</th>\n      <td>30215</td>\n      <td>9</td>\n      <td>11</td>\n      <td>17</td>\n      <td>14</td>\n      <td>10</td>\n    </tr>\n    <tr>\n      <th>top</th>\n      <td>datasets/IMFDB_final/KatrinaKaif/ZindagiNaMile...</td>\n      <td>MALE</td>\n      <td>NEUTRAL</td>\n      <td>NONE</td>\n      <td>MEDIUM</td>\n      <td>FRONTAL</td>\n    </tr>\n    <tr>\n      <th>freq</th>\n      <td>235</td>\n      <td>20986</td>\n      <td>9588</td>\n      <td>21111</td>\n      <td>19836</td>\n      <td>11971</td>\n    </tr>\n  </tbody>\n</table>\n</div>",
      "text/plain": "                                                     path gender  emotion  \\\ncount                                               31292  30995    31268   \nunique                                              30215      9       11   \ntop     datasets/IMFDB_final/KatrinaKaif/ZindagiNaMile...   MALE  NEUTRAL   \nfreq                                                  235  20986     9588   \n\n       obstruction illumination orientation  \ncount        31289        31290       31292  \nunique          17           14          10  \ntop           NONE       MEDIUM     FRONTAL  \nfreq         21111        19836       11971  "
     },
     "execution_count": 32,
     "metadata": {},
     "output_type": "execute_result"
    }
   ],
   "source": [
    "df.describe()"
   ]
  },
  {
   "cell_type": "code",
   "execution_count": 33,
   "metadata": {},
   "outputs": [
    {
     "name": "stdout",
     "output_type": "stream",
     "text": "['FEMALE' 'MALE' 'SalmanKhan' nan 'Kavya_Madhavan' '174' 'Bharathi'\n 'Prakash' 'KareenaKapoor' '2001'] ['ANGER' 'NEUTRAL' 'SURPRISE' 'HAPPINESS' 'SADNESS' 'FEAR' 'DISGUST'\n 'MALE' nan 'FEMALE' 'Cheli' 'KareenaKapoor'] ['NONE' 'GLASSES' 'HAND' 'HAIR' 'OTHERS' 'DISGUST' 'MALE' 'HAPPINESS'\n 'NEUTRAL' 'ANGER' 'BEARD' 'ORNAMENTS' 'SADNESS' 'SURPRISE' nan '2001'\n 'FEAR' 'FEMALE'] ['MEDIUM' 'BAD' 'HIGH' 'NONE' 'NEUTRAL' 'HAND' 'OTHERS' 'GLASSES' 'ANGER'\n 'DISGUST' 'HAPPINESS' 'ORNAMENTS' nan 'Madhavan' 'HAIR'] ['FRONTAL' 'UP' 'RIGHT' 'LEFT' 'DOWN' 'YOUNG' 'MEDIUM' 'ANGER' 'OLD'\n 'MIDDLE']\n"
    }
   ],
   "source": [
    "print(df.gender.unique(),df.emotion.unique(),df.obstruction.unique(),df.illumination.unique(),df.orientation.unique())"
   ]
  },
  {
   "cell_type": "code",
   "execution_count": 34,
   "metadata": {},
   "outputs": [
    {
     "data": {
      "text/plain": "gender\n174                   1\n2001                  1\nBharathi            225\nFEMALE             9114\nKareenaKapoor       191\nKavya_Madhavan       63\nMALE              20383\nPrakash              17\nSalmanKhan           25\nName: path, dtype: int64"
     },
     "execution_count": 34,
     "metadata": {},
     "output_type": "execute_result"
    }
   ],
   "source": [
    "df.groupby('gender')['path'].nunique()"
   ]
  },
  {
   "cell_type": "code",
   "execution_count": 35,
   "metadata": {},
   "outputs": [
    {
     "data": {
      "text/plain": "emotion\nANGER            2697\nCheli               1\nDISGUST          3736\nFEAR              610\nFEMALE            480\nHAPPINESS        7846\nKareenaKapoor       1\nMALE              215\nNEUTRAL          9417\nSADNESS          3583\nSURPRISE         1690\nName: path, dtype: int64"
     },
     "execution_count": 35,
     "metadata": {},
     "output_type": "execute_result"
    }
   ],
   "source": [
    "df.groupby('emotion')['path'].nunique()"
   ]
  },
  {
   "cell_type": "code",
   "execution_count": 77,
   "metadata": {},
   "outputs": [],
   "source": [
    "for col in ['emotion','gender','obstruction']:\n",
    "    threshold = 500\n",
    "    value_counts = df[col].value_counts()\n",
    "    to_remove = value_counts[value_counts <= threshold].index\n",
    "    df[col].replace(to_remove, None, inplace=True)\n",
    "\n",
    "value_counts = df.path.value_counts()\n",
    "to_remove = value_counts[value_counts >10].index\n",
    "df.path.replace(to_remove, np.nan, inplace=True)"
   ]
  },
  {
   "cell_type": "code",
   "execution_count": 78,
   "metadata": {},
   "outputs": [
    {
     "name": "stdout",
     "output_type": "stream",
     "text": "['FEMALE' 'MALE' nan] ['ANGER' 'NEUTRAL' 'SURPRISE' 'HAPPINESS' 'SADNESS' 'FEAR' 'DISGUST' nan] ['NONE' 'GLASSES' 'HAND' 'HAIR' 'OTHERS' 'BEARD' nan] ['MEDIUM' 'BAD' 'HIGH' 'NONE' 'NEUTRAL' 'HAND' 'OTHERS' 'GLASSES' 'ANGER'\n 'DISGUST' 'HAPPINESS' 'ORNAMENTS' nan 'Madhavan' 'HAIR'] ['FRONTAL' 'UP' 'RIGHT' 'LEFT' 'DOWN' 'YOUNG' 'MEDIUM' 'ANGER' 'OLD'\n 'MIDDLE']\n"
    }
   ],
   "source": [
    "print(df.gender.unique(),df.emotion.unique(),df.obstruction.unique(),df.illumination.unique(),df.orientation.unique())"
   ]
  },
  {
   "cell_type": "code",
   "execution_count": 86,
   "metadata": {},
   "outputs": [],
   "source": [
    "clean_df = df.dropna()"
   ]
  },
  {
   "cell_type": "code",
   "execution_count": 87,
   "metadata": {},
   "outputs": [
    {
     "name": "stdout",
     "output_type": "stream",
     "text": "['FEMALE' 'MALE'] ['ANGER' 'NEUTRAL' 'SURPRISE' 'HAPPINESS' 'SADNESS' 'FEAR' 'DISGUST'] ['NONE' 'GLASSES' 'HAND' 'HAIR' 'OTHERS' 'BEARD'] ['MEDIUM' 'BAD' 'HIGH'] ['FRONTAL' 'UP' 'RIGHT' 'LEFT' 'DOWN']\n"
    }
   ],
   "source": [
    "print(clean_df.gender.unique(),clean_df.emotion.unique(),clean_df.obstruction.unique(),clean_df.illumination.unique(),clean_df.orientation.unique())"
   ]
  },
  {
   "cell_type": "code",
   "execution_count": 88,
   "metadata": {},
   "outputs": [
    {
     "data": {
      "text/html": "<div>\n<style scoped>\n    .dataframe tbody tr th:only-of-type {\n        vertical-align: middle;\n    }\n\n    .dataframe tbody tr th {\n        vertical-align: top;\n    }\n\n    .dataframe thead th {\n        text-align: right;\n    }\n</style>\n<table border=\"1\" class=\"dataframe\">\n  <thead>\n    <tr style=\"text-align: right;\">\n      <th></th>\n      <th>path</th>\n      <th>gender</th>\n      <th>emotion</th>\n      <th>obstruction</th>\n      <th>illumination</th>\n      <th>orientation</th>\n    </tr>\n  </thead>\n  <tbody>\n    <tr>\n      <th>count</th>\n      <td>29921</td>\n      <td>29921</td>\n      <td>29921</td>\n      <td>29921</td>\n      <td>29921</td>\n      <td>29921</td>\n    </tr>\n    <tr>\n      <th>unique</th>\n      <td>29467</td>\n      <td>2</td>\n      <td>7</td>\n      <td>6</td>\n      <td>3</td>\n      <td>5</td>\n    </tr>\n    <tr>\n      <th>top</th>\n      <td>datasets/IMFDB_final/Balakrishna/odahuttidavar...</td>\n      <td>MALE</td>\n      <td>NEUTRAL</td>\n      <td>NONE</td>\n      <td>MEDIUM</td>\n      <td>FRONTAL</td>\n    </tr>\n    <tr>\n      <th>freq</th>\n      <td>10</td>\n      <td>20721</td>\n      <td>9528</td>\n      <td>21104</td>\n      <td>19400</td>\n      <td>11711</td>\n    </tr>\n  </tbody>\n</table>\n</div>",
      "text/plain": "                                                     path gender  emotion  \\\ncount                                               29921  29921    29921   \nunique                                              29467      2        7   \ntop     datasets/IMFDB_final/Balakrishna/odahuttidavar...   MALE  NEUTRAL   \nfreq                                                   10  20721     9528   \n\n       obstruction illumination orientation  \ncount        29921        29921       29921  \nunique           6            3           5  \ntop           NONE       MEDIUM     FRONTAL  \nfreq         21104        19400       11711  "
     },
     "execution_count": 88,
     "metadata": {},
     "output_type": "execute_result"
    }
   ],
   "source": [
    "clean_df.describe()"
   ]
  },
  {
   "cell_type": "code",
   "execution_count": 89,
   "metadata": {},
   "outputs": [
    {
     "data": {
      "text/plain": "29921"
     },
     "execution_count": 89,
     "metadata": {},
     "output_type": "execute_result"
    }
   ],
   "source": [
    "len(clean_df.path.str.contains('.jpg'))"
   ]
  },
  {
   "cell_type": "code",
   "execution_count": 90,
   "metadata": {},
   "outputs": [
    {
     "name": "stdout",
     "output_type": "stream",
     "text": "gender\nemotion\nobstruction\nillumination\norientation\n{'gender': [(0, 'FEMALE'), (1, 'MALE')], 'emotion': [(0, 'ANGER'), (1, 'NEUTRAL'), (2, 'SURPRISE'), (3, 'HAPPINESS'), (4, 'SADNESS'), (5, 'FEAR'), (6, 'DISGUST')], 'obstruction': [(0, 'NONE'), (1, 'GLASSES'), (2, 'HAND'), (3, 'HAIR'), (4, 'OTHERS'), (5, 'BEARD')], 'illumination': [(0, 'MEDIUM'), (1, 'BAD'), (2, 'HIGH')], 'orientation': [(0, 'FRONTAL'), (1, 'UP'), (2, 'RIGHT'), (3, 'LEFT'), (4, 'DOWN')]}\n"
    }
   ],
   "source": [
    "convert_dict = {}\n",
    "for col in clean_df.columns[1:]:\n",
    "    print(col)\n",
    "    convert_dict[col] = []\n",
    "    for i,v in enumerate(clean_df[col].unique()):\n",
    "        convert_dict[col].append((i,v))\n",
    "        clean_df[col].replace(v, i, inplace=True)\n",
    "print(convert_dict)"
   ]
  },
  {
   "cell_type": "code",
   "execution_count": 93,
   "metadata": {},
   "outputs": [
    {
     "data": {
      "text/html": "<div>\n<style scoped>\n    .dataframe tbody tr th:only-of-type {\n        vertical-align: middle;\n    }\n\n    .dataframe tbody tr th {\n        vertical-align: top;\n    }\n\n    .dataframe thead th {\n        text-align: right;\n    }\n</style>\n<table border=\"1\" class=\"dataframe\">\n  <thead>\n    <tr style=\"text-align: right;\">\n      <th></th>\n      <th>gender</th>\n      <th>emotion</th>\n      <th>obstruction</th>\n      <th>illumination</th>\n      <th>orientation</th>\n    </tr>\n  </thead>\n  <tbody>\n    <tr>\n      <th>count</th>\n      <td>29921.000000</td>\n      <td>29921.000000</td>\n      <td>29921.000000</td>\n      <td>29921.000000</td>\n      <td>29921.000000</td>\n    </tr>\n    <tr>\n      <th>mean</th>\n      <td>0.692524</td>\n      <td>2.572307</td>\n      <td>0.652451</td>\n      <td>0.404064</td>\n      <td>1.578156</td>\n    </tr>\n    <tr>\n      <th>std</th>\n      <td>0.461456</td>\n      <td>1.818648</td>\n      <td>1.252495</td>\n      <td>0.587949</td>\n      <td>1.398475</td>\n    </tr>\n    <tr>\n      <th>min</th>\n      <td>0.000000</td>\n      <td>0.000000</td>\n      <td>0.000000</td>\n      <td>0.000000</td>\n      <td>0.000000</td>\n    </tr>\n    <tr>\n      <th>25%</th>\n      <td>0.000000</td>\n      <td>1.000000</td>\n      <td>0.000000</td>\n      <td>0.000000</td>\n      <td>0.000000</td>\n    </tr>\n    <tr>\n      <th>50%</th>\n      <td>1.000000</td>\n      <td>3.000000</td>\n      <td>0.000000</td>\n      <td>0.000000</td>\n      <td>2.000000</td>\n    </tr>\n    <tr>\n      <th>75%</th>\n      <td>1.000000</td>\n      <td>4.000000</td>\n      <td>1.000000</td>\n      <td>1.000000</td>\n      <td>3.000000</td>\n    </tr>\n    <tr>\n      <th>max</th>\n      <td>1.000000</td>\n      <td>6.000000</td>\n      <td>5.000000</td>\n      <td>2.000000</td>\n      <td>4.000000</td>\n    </tr>\n  </tbody>\n</table>\n</div>",
      "text/plain": "             gender       emotion   obstruction  illumination   orientation\ncount  29921.000000  29921.000000  29921.000000  29921.000000  29921.000000\nmean       0.692524      2.572307      0.652451      0.404064      1.578156\nstd        0.461456      1.818648      1.252495      0.587949      1.398475\nmin        0.000000      0.000000      0.000000      0.000000      0.000000\n25%        0.000000      1.000000      0.000000      0.000000      0.000000\n50%        1.000000      3.000000      0.000000      0.000000      2.000000\n75%        1.000000      4.000000      1.000000      1.000000      3.000000\nmax        1.000000      6.000000      5.000000      2.000000      4.000000"
     },
     "execution_count": 93,
     "metadata": {},
     "output_type": "execute_result"
    }
   ],
   "source": [
    "clean_df.describe()"
   ]
  },
  {
   "cell_type": "code",
   "execution_count": null,
   "metadata": {},
   "outputs": [],
   "source": [
    "import os, sys, time\n",
    "import tensorflow as tf\n",
    "import numpy as np\n",
    "from tqdm import tqdm\n",
    "\n",
    "tf.keras.\n",
    "\n",
    "\n",
    "\n",
    "\n",
    "\n",
    "\n",
    "\n",
    "\n",
    "\n",
    "\n",
    "\n",
    "\n",
    "\n",
    "\n",
    "\n",
    "\n",
    "\n",
    "\n",
    "\n",
    "\n",
    "\n",
    "\n",
    "\n",
    "\n",
    "\n",
    "\n",
    "\n",
    "\n",
    "\n",
    "\n"
   ]
  }
 ]
}